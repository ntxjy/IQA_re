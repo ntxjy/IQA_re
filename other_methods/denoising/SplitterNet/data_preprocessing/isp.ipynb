{
 "cells": [
  {
   "cell_type": "code",
   "execution_count": null,
   "metadata": {},
   "outputs": [],
   "source": [
    "import numpy as np\n",
    "import imageio\n",
    "import rawpy\n",
    "import os\n",
    "\n",
    "#Minimal ISP for a DNG file\n",
    "input_folder = \"\"\n",
    "output_folder = \"\"\n",
    "\n",
    "if not os.path.exists(output_folder):\n",
    "    os.makedirs(output_folder)\n",
    "\n",
    "raw_middle = rawpy.imread(input_folder)\n",
    "\n",
    "rgb_middle = raw_middle\n",
    "imageio.imsave(output_folder+\"1053_14.png\",\n",
    "                rgb_middle.postprocess(output_color=rawpy.ColorSpace.Adobe, use_camera_wb=True, no_auto_bright=False))\n"
   ]
  },
  {
   "cell_type": "code",
   "execution_count": null,
   "metadata": {},
   "outputs": [],
   "source": []
  }
 ],
 "metadata": {
  "kernelspec": {
   "display_name": "mynetenv_2_14",
   "language": "python",
   "name": "python3"
  },
  "language_info": {
   "codemirror_mode": {
    "name": "ipython",
    "version": 3
   },
   "file_extension": ".py",
   "mimetype": "text/x-python",
   "name": "python",
   "nbconvert_exporter": "python",
   "pygments_lexer": "ipython3",
   "version": "3.10.0"
  }
 },
 "nbformat": 4,
 "nbformat_minor": 2
}
